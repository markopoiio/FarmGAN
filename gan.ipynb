{
 "cells": [
  {
   "cell_type": "code",
   "execution_count": 1,
   "id": "7d64d268-16cd-4a74-992c-dc28c2704928",
   "metadata": {},
   "outputs": [],
   "source": [
    "import os\n",
    "os.environ['TF_CPP_MIN_LOG_LEVEL'] = '3'  # or any {'0', '1', '2'}\n",
    "\n",
    "import tensorflow as tf\n",
    "from tensorflow.keras.models import Sequential\n",
    "from tensorflow.keras import layers\n",
    "from tensorflow.random import normal\n",
    "from tensorflow.keras.losses import BinaryCrossentropy"
   ]
  },
  {
   "cell_type": "code",
   "execution_count": 2,
   "id": "bf0aeb16-1e2f-4e60-bed3-a81395f1ac5a",
   "metadata": {},
   "outputs": [],
   "source": [
    "allowed_chars = 52\n",
    "max_len = 450\n",
    "\n",
    "def get_noize():\n",
    "    return tf.random.normal(shape=(52,64,1))\n",
    "\n",
    "\n",
    "def one_hot(smi):\n",
    "    smi = \"`\" * (max_len - len(smi)) + smi\n",
    "    encoded = [[0]*allowed_chars for _ in range(max_len)]\n",
    "    for i, c in enumerate(smi):\n",
    "        encoded[i][chars[c]] = 1\n",
    "    return tf.transpose(tf.constant(encoded))\n",
    "\n",
    "    \n",
    "real_data = []\n",
    "chars = set(\"`\")\n",
    "with open(\"smiles.smi\") as f:\n",
    "    for smiles in f:\n",
    "        real_data.append(smiles[:-1])\n",
    "        chars.update(smiles[:-1])\n",
    "chars = sorted(chars)\n",
    "chars = {c: i for i,c in enumerate(chars)}\n",
    "\n",
    "real_data = [one_hot(smi) for smi in real_data]\n"
   ]
  },
  {
   "cell_type": "code",
   "execution_count": 3,
   "id": "e034b01d-5feb-471d-8024-1bacf829e0c3",
   "metadata": {},
   "outputs": [],
   "source": [
    "def layer_bidir(units=40):\n",
    "    fw = layers.GRU(units=units, return_sequences=True, go_backwards=False)\n",
    "    bw = layers.GRU(units=units, return_sequences=True, go_backwards=True)\n",
    "    bidir = layers.Bidirectional(layer=fw, backward_layer=bw)\n",
    "    return bidir\n",
    "\n",
    "def make_generator(dict_size=52, max_smi_len=450, lstm_units=40):\n",
    "    model = Sequential()\n",
    "    model.add(layers.Dense(40))\n",
    "    model.add(layer_bidir(lstm_units))\n",
    "    model.add(layers.Dense(1))\n",
    "    model.add(layers.Flatten())\n",
    "    model.add(layers.Dense(450, activation=\"softmax\"))  \n",
    "    return model\n",
    "\n",
    "def make_discriminator():\n",
    "    model = Sequential()\n",
    "    model.add(layers.Input(shape=(52,450)))\n",
    "    model.add(layers.Dense(40))\n",
    "    model.add(layers.Dense(1))\n",
    "    model.add(layers.Flatten())\n",
    "    model.add(layers.Dense(1, activation=\"sigmoid\"))\n",
    "    return model\n",
    "\n",
    "cross_entropy = BinaryCrossentropy(from_logits=False)\n",
    "\n",
    "def discriminator_loss(real_output, fake_output):\n",
    "    real_loss = cross_entropy(tf.ones_like(real_output), real_output)\n",
    "    fake_loss = cross_entropy(tf.zeros_like(fake_output), fake_output)\n",
    "    total_loss = real_loss + fake_loss\n",
    "    return total_loss\n",
    "\n",
    "def generator_loss(fake_output):\n",
    "    return cross_entropy(tf.ones_like(fake_output), fake_output)\n"
   ]
  },
  {
   "cell_type": "code",
   "execution_count": 8,
   "id": "13802a2e-c1bd-4a20-91ec-fb67f910d0ae",
   "metadata": {},
   "outputs": [
    {
     "name": "stdout",
     "output_type": "stream",
     "text": [
      "Model: \"sequential_2\"\n",
      "________________________________________________________________________________\n",
      " Layer (type)                       Output Shape                    Param #     \n",
      "================================================================================\n",
      " dense_6 (Dense)                    (52, 64, 40)                    80          \n",
      "                                                                                \n",
      " bidirectional_1 (Bidirectional)    (52, 64, 80)                    19680       \n",
      "                                                                                \n",
      " dense_7 (Dense)                    (52, 64, 1)                     81          \n",
      "                                                                                \n",
      " flatten_2 (Flatten)                (52, 64)                        0           \n",
      "                                                                                \n",
      " dense_8 (Dense)                    (52, 450)                       29250       \n",
      "                                                                                \n",
      "================================================================================\n",
      "Total params: 49,091\n",
      "Trainable params: 49,091\n",
      "Non-trainable params: 0\n",
      "________________________________________________________________________________\n"
     ]
    }
   ],
   "source": [
    "generator = make_generator()\n",
    "generator.build(input_shape=(52,64, 1))\n",
    "generator.summary(80)                "
   ]
  },
  {
   "cell_type": "code",
   "execution_count": 9,
   "id": "a8db6246-ea6a-4126-8c50-d199291fdb15",
   "metadata": {},
   "outputs": [
    {
     "name": "stdout",
     "output_type": "stream",
     "text": [
      "Model: \"sequential_3\"\n",
      "________________________________________________________________________________\n",
      " Layer (type)                       Output Shape                    Param #     \n",
      "================================================================================\n",
      " dense_9 (Dense)                    (None, 52, 40)                  18040       \n",
      "                                                                                \n",
      " dense_10 (Dense)                   (None, 52, 1)                   41          \n",
      "                                                                                \n",
      " flatten_3 (Flatten)                (None, 52)                      0           \n",
      "                                                                                \n",
      " dense_11 (Dense)                   (None, 1)                       53          \n",
      "                                                                                \n",
      "================================================================================\n",
      "Total params: 18,134\n",
      "Trainable params: 18,134\n",
      "Non-trainable params: 0\n",
      "________________________________________________________________________________\n"
     ]
    }
   ],
   "source": [
    "discriminator = make_discriminator()\n",
    "discriminator.build()\n",
    "discriminator.summary(80)"
   ]
  },
  {
   "cell_type": "code",
   "execution_count": 10,
   "id": "e26958be-c098-4a07-91c2-b92a5cf0c3f9",
   "metadata": {
    "tags": []
   },
   "outputs": [
    {
     "name": "stdout",
     "output_type": "stream",
     "text": [
      "Starting Training Loop...\n",
      "epoch 1/50\n",
      "  step 142/143; Dloss 1.3644418716430664, Gloss 0.6640033125877383\n",
      "epoch 2/50\n",
      "  step 142/143; Dloss 1.1579447984695435, Gloss 0.6771004796028137\n",
      "epoch 3/50\n",
      "  step 142/143; Dloss 1.0195499658584595, Gloss 0.6866781115531921\n",
      "epoch 4/50\n",
      "  step 142/143; Dloss 0.9262133836746216, Gloss 0.6942467093467712\n",
      "epoch 5/50\n",
      "  step 142/143; Dloss 0.8614941835403442, Gloss 0.7009795904159546\n",
      "epoch 6/50\n",
      "  step 142/143; Dloss 0.8138229846954346, Gloss 0.7086893916130066\n",
      "epoch 7/50\n",
      "  step 142/143; Dloss 0.7759843468666077, Gloss 0.7185254096984863\n",
      "epoch 8/50\n",
      "  step 142/143; Dloss 0.7410979270935059, Gloss 0.7338538169860843\n",
      "epoch 9/50\n",
      "  step 142/143; Dloss 0.7063720226287842, Gloss 0.7552484273910522\n",
      "epoch 10/50\n",
      "  step 142/143; Dloss 0.6708837151527405, Gloss 0.7826699018478394\n",
      "epoch 11/50\n",
      "  step 142/143; Dloss 0.7773153781890869, Gloss 0.6610217094421387\n",
      "epoch 12/50\n",
      "  step 142/143; Dloss 0.752058744430542, Gloss 0.67807096242904669\n",
      "epoch 13/50\n",
      "  step 142/143; Dloss 0.7352839708328247, Gloss 0.6884351968765259\n",
      "epoch 14/50\n",
      "  step 142/143; Dloss 0.7224627733230591, Gloss 0.6961023211479187\n",
      "epoch 15/50\n",
      "  step 142/143; Dloss 0.7120522260665894, Gloss 0.7023200392723083\n",
      "epoch 16/50\n",
      "  step 142/143; Dloss 0.7030904293060303, Gloss 0.7078541517257699\n",
      "epoch 17/50\n",
      "  step 142/143; Dloss 0.6947891712188721, Gloss 0.7133651971817017\n",
      "epoch 18/50\n",
      "  step 142/143; Dloss 0.7176142930984497, Gloss 0.6876758933067322\n",
      "epoch 19/50\n",
      "  step 142/143; Dloss 0.7038412690162659, Gloss 0.6992880105972296\n",
      "epoch 20/50\n",
      "  step 142/143; Dloss 0.6954688429832458, Gloss 0.7058932185173035\n",
      "epoch 21/50\n",
      "  step 142/143; Dloss 0.6889808773994446, Gloss 0.7109094858169556\n",
      "epoch 22/50\n",
      "  step 142/143; Dloss 0.6830374002456665, Gloss 0.7156528830528259\n",
      "epoch 23/50\n",
      "  step 142/143; Dloss 0.676547110080719, Gloss 0.72123628854751592\n",
      "epoch 24/50\n",
      "  step 142/143; Dloss 0.6682854294776917, Gloss 0.7289713621139526\n",
      "epoch 25/50\n",
      "  step 142/143; Dloss 0.6568154692649841, Gloss 0.7405019998550415\n",
      "epoch 26/50\n",
      "  step 142/143; Dloss 0.6407577991485596, Gloss 0.7576110363006592\n",
      "epoch 27/50\n",
      "  step 142/143; Dloss 0.6193525791168213, Gloss 0.7817042469978333\n",
      "epoch 28/50\n",
      "  step 142/143; Dloss 0.5928280353546143, Gloss 0.8133885860443115\n",
      "epoch 29/50\n",
      "  step 142/143; Dloss 0.5622050762176514, Gloss 0.8525267243385315\n",
      "epoch 30/50\n",
      "  step 142/143; Dloss 0.5288086533546448, Gloss 0.8985910415649414\n",
      "epoch 31/50\n",
      "  step 142/143; Dloss 0.4939005374908447, Gloss 0.95096105337142948\n",
      "epoch 32/50\n",
      "  step 142/143; Dloss 0.4585270285606384, Gloss 1.00905871391296392\n",
      "epoch 33/50\n",
      "  step 142/143; Dloss 0.42349910736083984, Gloss 1.0723760128021248\n",
      "epoch 34/50\n",
      "  step 142/143; Dloss 0.3894213140010834, Gloss 1.14046156406402595\n",
      "epoch 35/50\n",
      "  step 142/143; Dloss 0.35672974586486816, Gloss 1.2128975391387946\n",
      "epoch 36/50\n",
      "  step 142/143; Dloss 0.32572582364082336, Gloss 1.2892822027206428\n",
      "epoch 37/50\n",
      "  step 142/143; Dloss 0.2966020107269287, Gloss 1.36922299861907969\n",
      "epoch 38/50\n",
      "  step 142/143; Dloss 0.2694632411003113, Gloss 1.45233559608459474\n",
      "epoch 39/50\n",
      "  step 142/143; Dloss 0.24434588849544525, Gloss 1.5382444858551025\n",
      "epoch 40/50\n",
      "  step 142/143; Dloss 0.22123239934444427, Gloss 1.6265894174575806\n",
      "epoch 41/50\n",
      "  step 142/143; Dloss 0.20006534457206726, Gloss 1.7170287370681763\n",
      "epoch 42/50\n",
      "  step 142/143; Dloss 0.3993697464466095, Gloss 1.11484062671661388\n",
      "epoch 43/50\n",
      "  step 142/143; Dloss 0.3524271547794342, Gloss 1.21816444396972663\n",
      "epoch 44/50\n",
      "  step 142/143; Dloss 0.3158969283103943, Gloss 1.31053459644317635\n",
      "epoch 45/50\n",
      "  step 142/143; Dloss 0.28439608216285706, Gloss 1.4007741212844849\n",
      "epoch 46/50\n",
      "  step 142/143; Dloss 0.2563994228839874, Gloss 1.49117279052734387\n",
      "epoch 47/50\n",
      "  step 142/143; Dloss 0.23123542964458466, Gloss 1.5825242996215828\n",
      "epoch 48/50\n",
      "  step 142/143; Dloss 0.20852474868297577, Gloss 1.6750767230987549\n",
      "epoch 49/50\n",
      "  step 142/143; Dloss 0.1880091279745102, Gloss 1.76883101463317877\n",
      "epoch 50/50\n",
      "  step 142/143; Dloss 0.16948308050632477, Gloss 1.8636809587478638\n"
     ]
    }
   ],
   "source": [
    "generator_optimizer = tf.keras.optimizers.Adam(5e-4)\n",
    "discriminator_optimizer = tf.keras.optimizers.Adam(1e-5)\n",
    "\n",
    "Glosses = []\n",
    "Dlosses = []\n",
    "\n",
    "batch_size = 32\n",
    "\n",
    "print(\"Starting Training Loop...\")\n",
    "\n",
    "num_epochs = 50\n",
    "for epoch in range(num_epochs):\n",
    "    print(f\"epoch {epoch+1}/{num_epochs}\")\n",
    "    Glosses.append([])\n",
    "    Dlosses.append([])\n",
    "    \n",
    "    for i in range(len(real_data) // batch_size):\n",
    "        \n",
    "        noize = get_noize()\n",
    "        data = tf.concat([real_data[i:i+batch_size]], 0)[0]\n",
    "        \n",
    "        with tf.GradientTape() as gen_tape, tf.GradientTape() as disc_tape:\n",
    "            fake_data = generator(noize, training=True)\n",
    "            \n",
    "            fake_data = tf.expand_dims(fake_data, 0)\n",
    "            data = tf.expand_dims(data, 0)\n",
    "            fake_output = discriminator(fake_data, training=True)\n",
    "            real_output = discriminator(data, training=True)\n",
    "            \n",
    "            gen_loss = generator_loss(fake_output)\n",
    "            disc_loss = discriminator_loss(real_output, fake_output)\n",
    "            Glosses[-1].append(gen_loss)\n",
    "            Dlosses[-1].append(disc_loss)\n",
    "        \n",
    "        gradients_of_generator = gen_tape.gradient(gen_loss, generator.trainable_variables)\n",
    "        gradients_of_discriminator = disc_tape.gradient(disc_loss, discriminator.trainable_variables)\n",
    "\n",
    "        generator_optimizer.apply_gradients(zip(gradients_of_generator, generator.trainable_variables))\n",
    "        discriminator_optimizer.apply_gradients(zip(gradients_of_discriminator, discriminator.trainable_variables))\n",
    "\n",
    "        print(f\"  step {i}/{len(real_data)//batch_size}\", end=\"; \")\n",
    "        print(f\"Dloss {Dlosses[-1][-1]}, Gloss {Glosses[-1][-1]}\", end=\"\\r\")\n",
    "    print(f\"  step {i}/{len(real_data)//batch_size}\", end=\"; \")\n",
    "    print(f\"Dloss {Dlosses[-1][-1]}, Gloss {Glosses[-1][-1]}\")\n",
    "\n",
    "        "
   ]
  },
  {
   "cell_type": "code",
   "execution_count": 21,
   "id": "c6968b5b-5175-4f4f-b62a-41c681c0e808",
   "metadata": {},
   "outputs": [
    {
     "data": {
      "image/png": "[encoded data removed]",
      "text/plain": [
       "<Figure size 640x480 with 1 Axes>"
      ]
     },
     "metadata": {},
     "output_type": "display_data"
    }
   ],
   "source": [
    "from matplotlib import pyplot as plt\n",
    "import numpy as np\n",
    "\n",
    "Dlosses = np.array(Dlosses)\n",
    "Glosses = np.array(Glosses)\n",
    "\n",
    "for i in range(0, num_epochs, 24):\n",
    "    plt.plot(Dlosses[i], label=f\"Disc{i+1}\")\n",
    "    plt.plot(Glosses[i], label=f\"Gen{i+1}\")\n",
    "    \n",
    "plt.legend()\n",
    "plt.savefig(\"graph1.png\")"
   ]
  },
  {
   "cell_type": "code",
   "execution_count": 14,
   "id": "9108f23f-7694-48f7-9364-014552bb7ef6",
   "metadata": {},
   "outputs": [],
   "source": [
    "chars_reversed = {v:k for k,v in chars.items()}\n",
    "\n",
    "def interpret_generated(generator_out):\n",
    "    smi = ''\n",
    "    out = np.array(generator_out).T\n",
    "    for i in out:\n",
    "        smi += chars_reversed[np.argmax(i)]\n",
    "    return smi\n",
    "    \n",
    "    "
   ]
  },
  {
   "cell_type": "code",
   "execution_count": 15,
   "id": "1d2ddeae-894b-47ed-93cb-ba8e398a8d80",
   "metadata": {},
   "outputs": [
    {
     "data": {
      "text/plain": [
       "'FFFbFFFFFFFbbFFFbFFFFFFFFbFFFFFFFFbFFFFFFFFFFnFbFFFMFFFFFFFFFbFFFFFFFFFFFFFFFFFFFFFFFFFFFFFFFFFFFFFFFFFFFFMMFFFbFFFFFFFFFFFbFFFFFFFFFFFFFbFFFFFFFFMFFFFbFFFFFFFFnFFFFFFFFFFFFFFFFFFFFFFFFFFFFFFFFFFFFFFFbbFFFFbFFFFFFFFMFFFFFFFFFFbFFFFFFFFFFbFFFFFFFFFFFFFbbFbMFbFFFFbFFFFFFFFFFFFFFFbFFFFFFbFFFFFFFFFFFFFFFFFFFFFFFFFFFFbbFFFFFFFFFFFFFFFFFFFFMFbFFFFFFFFFMFbbbFFFFbFFFFFFnFFFFFFFFFbnFbFFFFFFFFFFFFFFnFFFFFFFFFFFFFFFFFbFFFFFbFFFFFFFnFFFFFFFFFFFFFFFFFFFFFFFFF'"
      ]
     },
     "execution_count": 15,
     "metadata": {},
     "output_type": "execute_result"
    }
   ],
   "source": [
    "noize = get_noize()\n",
    "out = generator(noize, training=False)\n",
    "\n",
    "interpret_generated(out)"
   ]
  },
  {
   "cell_type": "code",
   "execution_count": 16,
   "id": "37329784-3be5-4514-9c95-5307dac22586",
   "metadata": {},
   "outputs": [
    {
     "data": {
      "text/plain": [
       "<tf.Tensor: shape=(1, 1), dtype=float32, numpy=array([[0.15499724]], dtype=float32)>"
      ]
     },
     "execution_count": 16,
     "metadata": {},
     "output_type": "execute_result"
    }
   ],
   "source": [
    "discriminator(tf.expand_dims(out, 0))"
   ]
  },
  {
   "cell_type": "code",
   "execution_count": 17,
   "id": "77667baf-25ce-4064-b552-0962b9417613",
   "metadata": {},
   "outputs": [
    {
     "data": {
      "text/plain": [
       "<tf.Tensor: shape=(1, 1), dtype=float32, numpy=array([[0.99959785]], dtype=float32)>"
      ]
     },
     "execution_count": 17,
     "metadata": {},
     "output_type": "execute_result"
    }
   ],
   "source": [
    "real = \"NCCCCC(CO)C=O\"\n",
    "real = \"`\" * (450-len(real)) + real\n",
    "real = one_hot(real)\n",
    "real = tf.expand_dims(real, 0)\n",
    "real = discriminator(real)\n",
    "real"
   ]
  },
  {
   "cell_type": "code",
   "execution_count": 19,
   "id": "75fdc2b0-344e-4ba1-848e-019c89a5bc2d",
   "metadata": {},
   "outputs": [
    {
     "name": "stdout",
     "output_type": "stream",
     "text": [
      "WARNING:tensorflow:Compiled the loaded model, but the compiled metrics have yet to be built. `model.compile_metrics` will be empty until you train or evaluate the model.\n",
      "INFO:tensorflow:Assets written to: discriminator.wght/assets\n",
      "WARNING:tensorflow:Compiled the loaded model, but the compiled metrics have yet to be built. `model.compile_metrics` will be empty until you train or evaluate the model.\n"
     ]
    },
    {
     "name": "stderr",
     "output_type": "stream",
     "text": [
      "WARNING:absl:Found untraced functions such as gru_cell_5_layer_call_fn, gru_cell_5_layer_call_and_return_conditional_losses, gru_cell_4_layer_call_fn, gru_cell_4_layer_call_and_return_conditional_losses while saving (showing 4 of 4). These functions will not be directly callable after loading.\n"
     ]
    },
    {
     "name": "stdout",
     "output_type": "stream",
     "text": [
      "INFO:tensorflow:Assets written to: generator.wght/assets\n"
     ]
    },
    {
     "name": "stderr",
     "output_type": "stream",
     "text": [
      "INFO:tensorflow:Assets written to: generator.wght/assets\n"
     ]
    }
   ],
   "source": [
    "discriminator.save(\"discriminator.wght\")\n",
    "generator.save(\"generator.wght\")"
   ]
  },
  {
   "cell_type": "code",
   "execution_count": null,
   "id": "95678f6e-616a-4d54-88c4-6dfbdaf09260",
   "metadata": {},
   "outputs": [],
   "source": []
  }
 ],
 "metadata": {
  "kernelspec": {
   "display_name": "Python 3 (ipykernel)",
   "language": "python",
   "name": "python3"
  },
  "language_info": {
   "codemirror_mode": {
    "name": "ipython",
    "version": 3
   },
   "file_extension": ".py",
   "mimetype": "text/x-python",
   "name": "python",
   "nbconvert_exporter": "python",
   "pygments_lexer": "ipython3",
   "version": "3.10.0"
  }
 },
 "nbformat": 4,
 "nbformat_minor": 5
}
